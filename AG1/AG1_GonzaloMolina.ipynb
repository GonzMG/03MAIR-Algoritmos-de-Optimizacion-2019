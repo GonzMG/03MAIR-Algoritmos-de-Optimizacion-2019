{
  "nbformat": 4,
  "nbformat_minor": 0,
  "metadata": {
    "colab": {
      "name": "AG1_GonzaloMolina.ipynb",
      "version": "0.3.2",
      "provenance": [],
      "include_colab_link": true
    },
    "kernelspec": {
      "name": "python3",
      "display_name": "Python 3"
    }
  },
  "cells": [
    {
      "cell_type": "markdown",
      "metadata": {
        "id": "view-in-github",
        "colab_type": "text"
      },
      "source": [
        "<a href=\"https://colab.research.google.com/github/GonzMG/03MAIR-Algoritmos-de-Optimizacion-2019/blob/master/AG1/AG1_GonzaloMolina.ipynb\" target=\"_parent\"><img src=\"https://colab.research.google.com/assets/colab-badge.svg\" alt=\"Open In Colab\"/></a>"
      ]
    },
    {
      "metadata": {
        "id": "5iN1uoyKTtJh",
        "colab_type": "text"
      },
      "cell_type": "markdown",
      "source": [
        "#AG1 - Actividad Guiada 1\n",
        "##GONZALO MOLINA GALLEGO\n",
        "Link a Github: <a href = \"https://github.com/GonzMG/03MAIR-Algoritmos-de-Optimizacion-2019/tree/master/AG1\"> Repositorio de la actividad</a>.\n"
      ]
    },
    {
      "metadata": {
        "id": "6seClNt7Ukmx",
        "colab_type": "code",
        "colab": {}
      },
      "cell_type": "code",
      "source": [
        "#Pivot: last element\n",
        "def quicksort(l):\n",
        "    if(len(l) <= 1): #end of recursivity\n",
        "        return l\n",
        "    else:\n",
        "        p = l[len(l)-1] # pivot element\n",
        "        s = -1 # position of the lowest element\n",
        "        for i in range(len(l)):\n",
        "            if l[i] <= p:\n",
        "                s+=1\n",
        "                l[s], l[i] = l[i], l[s]\n",
        "            if(i == len(l) - 1): #end of the list\n",
        "                return quicksort(l[:s]) + [l[s]] + quicksort(l[s+1:])"
      ],
      "execution_count": 0,
      "outputs": []
    },
    {
      "metadata": {
        "id": "ibcA5v0zXp6L",
        "colab_type": "code",
        "colab": {}
      },
      "cell_type": "code",
      "source": [
        ""
      ],
      "execution_count": 0,
      "outputs": []
    }
  ]
}