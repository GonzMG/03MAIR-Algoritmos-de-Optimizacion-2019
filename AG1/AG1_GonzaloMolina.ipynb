{
  "nbformat": 4,
  "nbformat_minor": 0,
  "metadata": {
    "colab": {
      "name": "AG1_GonzaloMolina.ipynb",
      "version": "0.3.2",
      "provenance": [],
      "include_colab_link": true
    },
    "kernelspec": {
      "name": "python3",
      "display_name": "Python 3"
    }
  },
  "cells": [
    {
      "cell_type": "markdown",
      "metadata": {
        "id": "view-in-github",
        "colab_type": "text"
      },
      "source": [
        "<a href=\"https://colab.research.google.com/github/GonzMG/03MAIR-Algoritmos-de-Optimizacion-2019/blob/master/AG1/AG1_GonzaloMolina.ipynb\" target=\"_parent\"><img src=\"https://colab.research.google.com/assets/colab-badge.svg\" alt=\"Open In Colab\"/></a>"
      ]
    },
    {
      "metadata": {
        "id": "5iN1uoyKTtJh",
        "colab_type": "text"
      },
      "cell_type": "markdown",
      "source": [
        "#AG1 - Actividad Guiada 1\n",
        "##GONZALO MOLINA GALLEGO\n",
        "Link a Github: <a href = \"https://github.com/GonzMG/03MAIR-Algoritmos-de-Optimizacion-2019/tree/master/AG1\"> Repositorio de la actividad</a>.\n"
      ]
    },
    {
      "metadata": {
        "id": "gXJ4sZnkSr7F",
        "colab_type": "text"
      },
      "cell_type": "markdown",
      "source": [
        "## Algoritmo Quicksort\n",
        "Con esta implementación, el pivote obligatoriamente es el último elemento de la lista. La variable *s* marca la posición del array con los elementos menores que el pivote.\n",
        "Cuando se llegue a la ultima posición del array, el pivote se intercambiara (o no) para quedarse en su posición de la lista. A partir de ahí, se divide el array en dos (si es necesario) y se repite el proceso."
      ]
    },
    {
      "metadata": {
        "id": "6seClNt7Ukmx",
        "colab_type": "code",
        "colab": {}
      },
      "cell_type": "code",
      "source": [
        "#Pivote fijo: ultimo elemento\n",
        "def quicksort(l):\n",
        "    if(len(l) <= 1): # fin recursividad\n",
        "        return l\n",
        "    else:\n",
        "        p = l[len(l)-1] # pivote\n",
        "        s = -1 # posicion del intercambio\n",
        "        for i in range(len(l)):\n",
        "            if l[i] <= p:\n",
        "                s+=1\n",
        "                l[s], l[i] = l[i], l[s]\n",
        "            if(i == len(l) - 1): # fin de la lista\n",
        "                return quicksort(l[:s]) + [l[s]] + quicksort(l[s+1:])"
      ],
      "execution_count": 0,
      "outputs": []
    },
    {
      "metadata": {
        "id": "ylXsIKtwY-KL",
        "colab_type": "code",
        "outputId": "1c4efd59-fcea-4929-d486-1fea28e2b890",
        "colab": {
          "base_uri": "https://localhost:8080/",
          "height": 50
        }
      },
      "cell_type": "code",
      "source": [
        "A = [9187, 244, 4054, 9222, 8373, 4993, 5265, 5470, 4519, 7182, 2035, 3506, 4337, 7580, 2554, 2824, 8357, 4447, 7379]\n",
        "\n",
        "@calcular_tiempo\n",
        "def QS(A):\n",
        "  return quicksort(A)\n",
        "\n",
        "print(QS(A))"
      ],
      "execution_count": 5,
      "outputs": [
        {
          "output_type": "stream",
          "text": [
            "Tiempo de ejecución para algoritmo: 4.172325134277344e-05\n",
            "[244, 2035, 2554, 2824, 3506, 4054, 4337, 4447, 4519, 4993, 5265, 5470, 7182, 7379, 7580, 8357, 8373, 9187, 9222]\n"
          ],
          "name": "stdout"
        }
      ]
    },
    {
      "metadata": {
        "id": "-NaBPtLrSvh7",
        "colab_type": "text"
      },
      "cell_type": "markdown",
      "source": [
        "## Problema del Cambio de Monedas"
      ]
    },
    {
      "metadata": {
        "id": "ibcA5v0zXp6L",
        "colab_type": "code",
        "colab": {
          "base_uri": "https://localhost:8080/",
          "height": 50
        },
        "outputId": "53262e99-0a49-495e-f539-58229429e9d3"
      },
      "cell_type": "code",
      "source": [
        "SISTEMA = [25, 10, 5, 1]\n",
        "\n",
        "@calcular_tiempo\n",
        "def cambio_monedas(CANTIDAD, SISTEMA ):\n",
        "  SOLUCION =[0 for i in range(len(SISTEMA))]\n",
        " \n",
        "  VALOR_ACUMULADO = 0\n",
        "  \n",
        "  for i in range(len(SISTEMA)):\n",
        "    monedas = int((CANTIDAD - VALOR_ACUMULADO)/SISTEMA[i])\n",
        "    \n",
        "    SOLUCION[i] = monedas\n",
        "    \n",
        "    VALOR_ACUMULADO += monedas*SISTEMA[i]\n",
        "    \n",
        "    \n",
        "    if CANTIDAD == VALOR_ACUMULADO:\n",
        "      return SOLUCION\n",
        "    \n",
        " \n",
        "  \n",
        "  \n",
        "cambio_monedas(77, SISTEMA)"
      ],
      "execution_count": 9,
      "outputs": [
        {
          "output_type": "stream",
          "text": [
            "Tiempo de ejecución para algoritmo: 9.5367431640625e-06\n"
          ],
          "name": "stdout"
        },
        {
          "output_type": "execute_result",
          "data": {
            "text/plain": [
              "[3, 0, 0, 2]"
            ]
          },
          "metadata": {
            "tags": []
          },
          "execution_count": 9
        }
      ]
    },
    {
      "metadata": {
        "id": "rkh29OUHS6z2",
        "colab_type": "text"
      },
      "cell_type": "markdown",
      "source": [
        "## Problema de las 4 reinas"
      ]
    },
    {
      "metadata": {
        "id": "GFHubeEtS9mC",
        "colab_type": "code",
        "colab": {
          "base_uri": "https://localhost:8080/",
          "height": 301
        },
        "outputId": "1c0c2bf3-ee18-4961-efb1-eb042eabc38a"
      },
      "cell_type": "code",
      "source": [
        "N=4\n",
        "\n",
        "solucion = [0 for i in range(N) ]\n",
        "\n",
        "etapa=0\n",
        "\n",
        "def es_prometedora(SOLUCION,etapa):\n",
        "  for i in range(etapa+1):\n",
        "    if SOLUCION.count(SOLUCION[i]) > 1:       return False\n",
        "  \n",
        "    #Verifica las diagonales\n",
        "    for j in range(i+1, etapa +1 ):\n",
        "      if abs(i-j) == abs(SOLUCION[i]-SOLUCION[j]) : return False\n",
        "  return True\n",
        "\n",
        "\n",
        "def escribe(S):\n",
        "  n = len(S)\n",
        "  for x in range(n):\n",
        "    print(\"\")\n",
        "    for i in range(n):\n",
        "      if solucion[i] == x+1:\n",
        "        print(\" X \" , end=\"\")\n",
        "      else:\n",
        "        print(\" - \", end=\"\")\n",
        "\n",
        "\n",
        "def reinas(N,solucion,etapa): #Tamaño del tablero\n",
        "  \n",
        "  for i in range(1,N+1):\n",
        "    solucion[etapa] = i\n",
        "    \n",
        "    #print(solucion)\n",
        "    if es_prometedora(solucion,etapa):\n",
        "      if etapa == N-1 :\n",
        "        print(\"\\n\\nLa solución es:\")\n",
        "        print(solucion)\n",
        "        escribe(solucion)\n",
        "      else:\n",
        "        #print(\"Es prometedora\\n###################\")\n",
        "        reinas(N,solucion,etapa+1)\n",
        "    else:\n",
        "      #print(\"NO PROMETEDORA\\n###################\")\n",
        "      None\n",
        "      \n",
        "    solucion[etapa] = 0\n",
        "    \n",
        "\n",
        "reinas(N,solucion,etapa)"
      ],
      "execution_count": 11,
      "outputs": [
        {
          "output_type": "stream",
          "text": [
            "\n",
            "\n",
            "La solución es:\n",
            "[2, 4, 1, 3]\n",
            "\n",
            " -  -  X  - \n",
            " X  -  -  - \n",
            " -  -  -  X \n",
            " -  X  -  - \n",
            "\n",
            "La solución es:\n",
            "[3, 1, 4, 2]\n",
            "\n",
            " -  X  -  - \n",
            " -  -  -  X \n",
            " X  -  -  - \n",
            " -  -  X  - "
          ],
          "name": "stdout"
        }
      ]
    },
    {
      "metadata": {
        "id": "C2eTsyTGIcLW",
        "colab_type": "text"
      },
      "cell_type": "markdown",
      "source": [
        "###Decorador cálculo del tiempo"
      ]
    },
    {
      "metadata": {
        "id": "fLGThql4IT4p",
        "colab_type": "code",
        "colab": {}
      },
      "cell_type": "code",
      "source": [
        "\n",
        "#Decorador para calcular_tiempo a la función para la cual queremos calcular el tiempo de ejecución(Isabel Vázquez)\n",
        "\n",
        "from time import time\n",
        "#Función para calcular el tiempo de ejecución\n",
        "def calcular_tiempo(f):\n",
        "   \n",
        "    def wrapper(*args, **kwargs):        \n",
        "        inicio = time()       \n",
        "        resultado = f(*args, **kwargs)       \n",
        "        tiempo = time() - inicio\n",
        "        print(\"Tiempo de ejecución para algoritmo: \"+str(tiempo))\n",
        "        return resultado\n",
        "    \n",
        "    return wrapper\n",
        "from time import time"
      ],
      "execution_count": 0,
      "outputs": []
    }
  ]
}