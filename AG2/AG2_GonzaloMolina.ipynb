{
  "nbformat": 4,
  "nbformat_minor": 0,
  "metadata": {
    "colab": {
      "name": "AG2_GonzaloMolina.ipynb",
      "version": "0.3.2",
      "provenance": [],
      "collapsed_sections": [],
      "include_colab_link": true
    },
    "kernelspec": {
      "name": "python3",
      "display_name": "Python 3"
    }
  },
  "cells": [
    {
      "cell_type": "markdown",
      "metadata": {
        "id": "view-in-github",
        "colab_type": "text"
      },
      "source": [
        "<a href=\"https://colab.research.google.com/github/GonzMG/03MAIR-Algoritmos-de-Optimizacion-2019/blob/master/AG2/AG2_GonzaloMolina.ipynb\" target=\"_parent\"><img src=\"https://colab.research.google.com/assets/colab-badge.svg\" alt=\"Open In Colab\"/></a>"
      ]
    },
    {
      "metadata": {
        "id": "CdRdvgQJYmDJ",
        "colab_type": "text"
      },
      "cell_type": "markdown",
      "source": [
        "# AG2 - Actividad Guiada 2\n",
        "## Gonzalo Molina Gallego\n",
        "Link a repositorio de la actividad: <a href = \"https://github.com/GonzMG/03MAIR-Algoritmos-de-Optimizacion-2019/tree/master/AG2\"> AG2</a>."
      ]
    },
    {
      "metadata": {
        "id": "2vcSn-oC63UO",
        "colab_type": "code",
        "colab": {}
      },
      "cell_type": "code",
      "source": [
        "#Calculo de Tiempos(Isabel Vazques). (Pte. analizar aportación de Miguel Angel Soto)\n",
        "from time import time\n",
        "def calcular_tiempo(f):\n",
        "   \n",
        "    def wrapper(*args, **kwargs):        \n",
        "        inicio = time()       \n",
        "        resultado = f(*args, **kwargs)       \n",
        "        tiempo = float(time() - inicio)     \n",
        "        print(\"\\r\\n Tiempo de ejecución para algoritmo: \"+\"{0:.25f}\".format(tiempo))\n",
        "        return resultado\n",
        "    \n",
        "    return wrapper"
      ],
      "execution_count": 0,
      "outputs": []
    },
    {
      "metadata": {
        "id": "RiCaCsQA-Ctl",
        "colab_type": "text"
      },
      "cell_type": "markdown",
      "source": [
        "##Closest Pair Problem\n",
        "En este problema se pide dar los dos puntos más cercanos de un plano bidimensional. Un solución sería recorrer todos los puntos de la lista e ir comparando todas las distancias, pero esto convertiria la complejidad en O(n^2). \n",
        "Si vemos este problema como divide y vencerás: \n",
        "\n",
        "*   Ordenamos la lista por sus coordenadas X (si hay empate, por las Y) y se divide la lista en dos\n",
        "*   Si solo tenemos un punto en un lado de la lista, se devuelve infinito, si solo tenemos dos, la distancia Euclidea.\n",
        "*   Combinar ambas listas.\n",
        "\n",
        "Cuidado, si esta combinación no se realiza bien, el problema seguirá siendo de complejidad O(n^2), esto puede ser optimizado. Al encontrar la distancia minima en los dos conjuntos de puntos, sabemos que al combinar las listas, solo nos fijaremos en los puntos que esten en una distancia inferior a la mínima de la linea que divide los puntos.\n",
        "\n"
      ]
    },
    {
      "metadata": {
        "id": "gCfJTJy6ZDCU",
        "colab_type": "code",
        "colab": {}
      },
      "cell_type": "code",
      "source": [
        "#Funcion para calcular la distancia\n",
        "def distancia(A,B): \n",
        "  if type(A) is int or type(A) is float:\n",
        "    return  abs(B-A)\n",
        "  else:\n",
        "    return math.sqrt(sum([(A[i]-B[i])**2 for i in range(len(A))]))"
      ],
      "execution_count": 0,
      "outputs": []
    },
    {
      "metadata": {
        "id": "TsM2MkjiEwsK",
        "colab_type": "code",
        "outputId": "7007226a-b234-45a2-c8ab-84d74cc22e40",
        "colab": {
          "base_uri": "https://localhost:8080/",
          "height": 53
        }
      },
      "cell_type": "code",
      "source": [
        "import random\n",
        "import math\n",
        "\n",
        "\n",
        "N=99\n",
        "\n",
        "LISTA_2D = [  (random.randrange(1,N*10),random.randrange(1,N*10) )  for _ in range(N)]\n",
        "\n",
        "print(LISTA_2D)"
      ],
      "execution_count": 0,
      "outputs": [
        {
          "output_type": "stream",
          "text": [
            "[(447, 443), (125, 629), (14, 651), (665, 706), (454, 626), (401, 964), (914, 162), (552, 61), (71, 700), (836, 964), (886, 387), (93, 941), (320, 632), (519, 904), (806, 879), (275, 163), (802, 719), (508, 244), (403, 606), (82, 964), (146, 950), (458, 545), (812, 792), (863, 786), (335, 116), (853, 914), (936, 475), (90, 78), (678, 504), (219, 134), (232, 392), (673, 382), (302, 911), (185, 483), (90, 480), (204, 725), (510, 732), (530, 1), (710, 309), (767, 631), (596, 872), (974, 585), (797, 665), (365, 424), (749, 181), (291, 163), (137, 829), (815, 927), (843, 752), (616, 142), (516, 555), (463, 158), (88, 742), (468, 15), (77, 372), (963, 587), (604, 612), (960, 225), (227, 711), (583, 316), (585, 392), (384, 873), (895, 703), (507, 893), (128, 126), (790, 61), (179, 281), (466, 651), (691, 786), (588, 416), (125, 195), (936, 611), (190, 196), (616, 695), (283, 150), (345, 485), (557, 328), (926, 82), (119, 179), (340, 743), (714, 107), (46, 468), (500, 557), (526, 349), (397, 512), (385, 793), (738, 341), (125, 670), (163, 789), (947, 363), (684, 897), (986, 617), (818, 3), (669, 515), (188, 191), (218, 189), (446, 237), (203, 521), (543, 296)]\n"
          ],
          "name": "stdout"
        }
      ]
    },
    {
      "metadata": {
        "id": "yDL-Io3U0BCG",
        "colab_type": "code",
        "colab": {}
      },
      "cell_type": "code",
      "source": [
        "import numpy as np"
      ],
      "execution_count": 0,
      "outputs": []
    },
    {
      "metadata": {
        "id": "obiqUx4hE6tR",
        "colab_type": "code",
        "colab": {}
      },
      "cell_type": "code",
      "source": [
        "def closest_pair(l):\n",
        "  S1 = l[:int(len(l)/2)]\n",
        "  S2 = l[int(len(l)/2):]\n",
        "  if len(S1) == 1 and len(S2) == 1:\n",
        "    return (S1[0], S2[0], distancia(S1[0],S2[0]))\n",
        "  elif len(S1) == 1 and len(S2) == 2:\n",
        "    # Calcular distancia en S2 y ver si entra en S1\n",
        "    dS2 = distancia(S2[0],S2[1])\n",
        "    avg = (S1[0][0] + S2[0][0] + S2[1][0])/3\n",
        "    if S1[0][0] > (avg - dS2):\n",
        "      return get_point(l) # Devuelve los puntos mas cercanos\n",
        "  else:\n",
        "    p1 = closest_pair(S1)\n",
        "    p2 = closest_pair(S2)\n",
        "    return p1 if p1[2] < p2[2] else p2"
      ],
      "execution_count": 0,
      "outputs": []
    },
    {
      "metadata": {
        "id": "dHseMtZtocfl",
        "colab_type": "code",
        "colab": {}
      },
      "cell_type": "code",
      "source": [
        "def get_point(points):\n",
        "  x1, x2, y1, y2, d = -1,-1,-1,-1,np.Infinity\n",
        "  for i in range(len(points)):\n",
        "    for j in range(len(points)):\n",
        "      if distancia(points[i],points[j]) < d and j != i:\n",
        "        x1, y1 = points[i]\n",
        "        x2, y2 = points[j]\n",
        "        d = distancia(points[i],points[j])\n",
        "  return ((x1,y1), (x2,y2), d)"
      ],
      "execution_count": 0,
      "outputs": []
    },
    {
      "metadata": {
        "id": "A--CJGcT3tjc",
        "colab_type": "code",
        "colab": {}
      },
      "cell_type": "code",
      "source": [
        "# Media de todos los valores x\n",
        "def avg(points):\n",
        "  mid = 0\n",
        "  for p in points:\n",
        "    mid += p[0]\n",
        "  return mid/len(points)"
      ],
      "execution_count": 0,
      "outputs": []
    },
    {
      "metadata": {
        "id": "6Cg7rBhu4iXf",
        "colab_type": "code",
        "colab": {}
      },
      "cell_type": "code",
      "source": [
        "def filter_list(points, d, mid):\n",
        "  filtered = []\n",
        "  rm = mid + d\n",
        "  rl = mid - d\n",
        "  for p in points:\n",
        "    if p[0] > rl and p[0] < rm:\n",
        "      filtered.append(p)\n",
        "  return filtered "
      ],
      "execution_count": 0,
      "outputs": []
    },
    {
      "metadata": {
        "id": "sV_LZPk2Fe-Z",
        "colab_type": "code",
        "colab": {}
      },
      "cell_type": "code",
      "source": [
        "@calcular_tiempo\n",
        "def main(l):\n",
        "  mid = avg(l)\n",
        "  l.sort()\n",
        "  point = closest_pair(l) \n",
        "  d = point[2] # distance\n",
        "  result = get_point(filter_list(l, d, mid)) # Crear lista con union de ambos conjuntos\n",
        "  return result if result[2] < point[2] else point"
      ],
      "execution_count": 0,
      "outputs": []
    },
    {
      "metadata": {
        "id": "p_phVURa5xSp",
        "colab_type": "code",
        "outputId": "531dbe82-dc6a-4ad3-c753-8bfd3bad636b",
        "colab": {
          "base_uri": "https://localhost:8080/",
          "height": 67
        }
      },
      "cell_type": "code",
      "source": [
        "main(LISTA_2D)"
      ],
      "execution_count": 0,
      "outputs": [
        {
          "output_type": "stream",
          "text": [
            "\r\n",
            " Tiempo de ejecución para algoritmo: 0.0009644031524658203125000\n"
          ],
          "name": "stdout"
        },
        {
          "output_type": "execute_result",
          "data": {
            "text/plain": [
              "((188, 191), (190, 196), 5.385164807134504)"
            ]
          },
          "metadata": {
            "tags": []
          },
          "execution_count": 81
        }
      ]
    },
    {
      "metadata": {
        "id": "JQ8KpjJX8OoY",
        "colab_type": "text"
      },
      "cell_type": "markdown",
      "source": [
        "##Problema del viaje por el rio"
      ]
    },
    {
      "metadata": {
        "id": "6PGMoenm8XME",
        "colab_type": "code",
        "colab": {
          "base_uri": "https://localhost:8080/",
          "height": 137
        },
        "outputId": "a295bd88-1c18-436b-ac2b-a7438bece416"
      },
      "cell_type": "code",
      "source": [
        "TARIFAS = [\n",
        "[0,5,4,3,999,999,999],\n",
        "[999,0,999,2,3,999,11],\n",
        "[999,999, 0,1,999,4,10],\n",
        "[999,999,999, 0,5,6,9],\n",
        "[999,999, 999,999,0,999,4],\n",
        "[999,999, 999,999,999,0,3],\n",
        "[999,999,999,999,999,999,0]\n",
        "]\n",
        "\n",
        "def Precios(TARIFAS):\n",
        "  N = len(TARIFAS[0])\n",
        "  \n",
        "  PRECIOS = [ [9999]*N for i in [9999]*N ]\n",
        "  RUTAS    = [ [\"\"]*N for i in [9999]*N ]\n",
        "  \n",
        "\n",
        "  \n",
        "  for i in range(N-1):\n",
        "    for j in range(i+1,N):\n",
        "      MIN = TARIFAS[i][j]\n",
        "      RUTAS[i][j] = i\n",
        "      \n",
        "      for k in range(i,j):\n",
        "        if PRECIOS[i][k]+ TARIFAS[k][j] < MIN:\n",
        "          MIN = min( MIN , PRECIOS[i][k]+ TARIFAS[k][j] )\n",
        "          RUTAS[i][j] = k\n",
        "      PRECIOS[i][j] = MIN\n",
        "      \n",
        "  return PRECIOS, RUTAS\n",
        "\n",
        "  \n",
        "PRECIOS, RUTAS = Precios(TARIFAS)\n",
        "\n",
        "print(PRECIOS)\n",
        "\n",
        "print()\n",
        "\n",
        "print(RUTAS)\n",
        "\n",
        "def calcular_ruta(RUTAS, desde, hasta):\n",
        "  if desde == hasta:\n",
        "    return desde \n",
        "  else:\n",
        "    return str(calcular_ruta(RUTAS, desde, RUTAS[desde][hasta])) +  ',' + str(RUTAS[desde][hasta]) \n",
        "\n",
        "print(\"\\nLa ruta es:\")  \n",
        "calcular_ruta(RUTAS, 0,6)"
      ],
      "execution_count": 1,
      "outputs": [
        {
          "output_type": "stream",
          "text": [
            "[[9999, 5, 4, 3, 8, 8, 11], [9999, 9999, 999, 2, 3, 8, 7], [9999, 9999, 9999, 1, 6, 4, 7], [9999, 9999, 9999, 9999, 5, 6, 9], [9999, 9999, 9999, 9999, 9999, 999, 4], [9999, 9999, 9999, 9999, 9999, 9999, 3], [9999, 9999, 9999, 9999, 9999, 9999, 9999]]\n",
            "\n",
            "[['', 0, 0, 0, 1, 2, 5], ['', '', 1, 1, 1, 3, 4], ['', '', '', 2, 3, 2, 5], ['', '', '', '', 3, 3, 3], ['', '', '', '', '', 4, 4], ['', '', '', '', '', '', 5], ['', '', '', '', '', '', '']]\n",
            "\n",
            "La ruta es:\n"
          ],
          "name": "stdout"
        },
        {
          "output_type": "execute_result",
          "data": {
            "text/plain": [
              "'0,0,2,5'"
            ]
          },
          "metadata": {
            "tags": []
          },
          "execution_count": 1
        }
      ]
    },
    {
      "metadata": {
        "id": "2k_8Pigo8XnE",
        "colab_type": "code",
        "colab": {}
      },
      "cell_type": "code",
      "source": [
        ""
      ],
      "execution_count": 0,
      "outputs": []
    }
  ]
}