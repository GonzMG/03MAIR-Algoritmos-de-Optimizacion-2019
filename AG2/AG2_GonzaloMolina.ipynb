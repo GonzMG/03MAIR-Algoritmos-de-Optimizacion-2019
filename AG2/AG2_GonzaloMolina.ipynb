{
  "nbformat": 4,
  "nbformat_minor": 0,
  "metadata": {
    "colab": {
      "name": "AG2_GonzaloMolina.ipynb",
      "version": "0.3.2",
      "provenance": [],
      "include_colab_link": true
    },
    "kernelspec": {
      "name": "python3",
      "display_name": "Python 3"
    }
  },
  "cells": [
    {
      "cell_type": "markdown",
      "metadata": {
        "id": "view-in-github",
        "colab_type": "text"
      },
      "source": [
        "<a href=\"https://colab.research.google.com/github/GonzMG/03MAIR-Algoritmos-de-Optimizacion-2019/blob/master/AG2/AG2_GonzaloMolina.ipynb\" target=\"_parent\"><img src=\"https://colab.research.google.com/assets/colab-badge.svg\" alt=\"Open In Colab\"/></a>"
      ]
    },
    {
      "metadata": {
        "id": "CdRdvgQJYmDJ",
        "colab_type": "text"
      },
      "cell_type": "markdown",
      "source": [
        "# AG2 - Actividad Guiada 2\n",
        "## Gonzalo Molina Gallego\n",
        "Link a repositorio de la actividad: <a href = \"https://github.com/GonzMG/03MAIR-Algoritmos-de-Optimizacion-2019/tree/master/AG2\"> AG2</a>."
      ]
    },
    {
      "metadata": {
        "id": "gCfJTJy6ZDCU",
        "colab_type": "code",
        "colab": {}
      },
      "cell_type": "code",
      "source": [
        ""
      ],
      "execution_count": 0,
      "outputs": []
    }
  ]
}