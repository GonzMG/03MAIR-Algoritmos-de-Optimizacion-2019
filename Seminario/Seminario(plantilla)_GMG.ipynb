{
  "nbformat": 4,
  "nbformat_minor": 0,
  "metadata": {
    "colab": {
      "name": "Seminario(plantilla)-GMG.ipynb",
      "version": "0.3.2",
      "provenance": [],
      "collapsed_sections": [],
      "include_colab_link": true
    },
    "kernelspec": {
      "name": "python3",
      "display_name": "Python 3"
    }
  },
  "cells": [
    {
      "cell_type": "markdown",
      "metadata": {
        "id": "view-in-github",
        "colab_type": "text"
      },
      "source": [
        "<a href=\"https://colab.research.google.com/github/GonzMG/03MAIR-Algoritmos-de-Optimizacion-2019/blob/master/Seminario/Seminario(plantilla)_GMG.ipynb\" target=\"_parent\"><img src=\"https://colab.research.google.com/assets/colab-badge.svg\" alt=\"Open In Colab\"/></a>"
      ]
    },
    {
      "metadata": {
        "id": "hVbXYX-RfPWh",
        "colab_type": "text"
      },
      "cell_type": "markdown",
      "source": [
        "# Algoritmos de optimización - Seminario<br>\n",
        "Nombre y Apellidos: Gonzalo Molina Gallego  <br>\n",
        "Url: https://github.com/GonzMG/03MAIR-Algoritmos-de-Optimizacion-2019/tree/master/Seminario<br>\n",
        "Problema:\n",
        ">3. Combinar cifras y operaciones\n",
        "\n",
        "Descripción del problema:<br>\n",
        "El problema consiste en analizar el siguiente problema y diseñar un algoritmo que lo resuelva.\n",
        "Disponemos de las 9 cifras del 1 al 9 (excluimos el cero) y de los 4 signos básicos de las\n",
        "operaciones fundamentales: suma(+), resta(-), multiplicación(*) y división(/)\n",
        "Debemos combinarlos alternativamente sin repetir ninguno de ellos para obtener una\n",
        "cantidad dada.\n",
        "\n",
        "                                        "
      ]
    },
    {
      "metadata": {
        "id": "3_-exlrTgLd-",
        "colab_type": "text"
      },
      "cell_type": "markdown",
      "source": [
        "**Pregunta 1**<br>\n",
        "**a** ¿Cuantas posibilidades hay sin tener en cuenta las restricciones?<br>\n",
        "**b** ¿Cuantas posibilidades hay teniendo en cuenta todas las restricciones.\n"
      ]
    },
    {
      "metadata": {
        "id": "WfCUqJyKhPcw",
        "colab_type": "text"
      },
      "cell_type": "markdown",
      "source": [
        "Respuesta<br>\n",
        "**1a:** Teniendo en cuenta las retricciones (no se admiten repetidos de dígitos y operadores), esta pregunta puede ser contestada utilizando la definición de Muestreo Ordenado sin Remplazo:  *nPk = (n!) / (n-k)!* siendo *n* la longitud de la lista (9 en el caso de los numeros) y *k* la cantidad de numeros que hay que escoger. Esta metrica se utiliza para calcular el número de formas, sin tener en cuenta el orden, en que los objetos k pueden ser elegidos entre n objetos. <br>\n",
        "Posibilidades de números:<br> \n",
        "9P5= 15120 -->Cantidad de posibilidades para los números<br>\n",
        "4! = 24 --> Cantidad de posibilidades para los signos<br>\n",
        "Combinando ambas obtenemos: *nPk · len(operadores)!* = **362880**.\n",
        "<br>\n",
        "**1b:** Al no tener restricciones, las posibilidades aumentan. Podemos repetir el operador que haga falta y el número que necesitemos.<br>\n",
        "9^5: 59049 --> Posibilidades para los números.<br>\n",
        "4^4: 256 --> Posibilidades para los operadores<br>\n",
        "Total de posibilidades = **15116544**.\n",
        "\n",
        "\n"
      ]
    },
    {
      "metadata": {
        "id": "G2v0HBWUf-Um",
        "colab_type": "code",
        "colab": {
          "base_uri": "https://localhost:8080/",
          "height": 50
        },
        "outputId": "c893f7a2-7012-4104-d155-a9a18464978c"
      },
      "cell_type": "code",
      "source": [
        "import math\n",
        "\n",
        "def restricciones(x,y):\n",
        "  div1 = math.factorial(x)\n",
        "  div2 = math.factorial(x-y)\n",
        "  return div1/div2\n",
        "\n",
        "  \n",
        "print(restricciones(9,5))"
      ],
      "execution_count": 28,
      "outputs": [
        {
          "output_type": "stream",
          "text": [
            "15120.0\n",
            "1287.0\n"
          ],
          "name": "stdout"
        }
      ]
    },
    {
      "metadata": {
        "id": "dzynfVJahHoY",
        "colab_type": "text"
      },
      "cell_type": "markdown",
      "source": [
        "**Pregunta 2**<br>\n",
        "Modelo para el espacio de soluciones<br>\n",
        "**a** ¿Cual es la estructura de datos que mejor se adapta al problema? Argumentalo.(Es posible que hayas elegido una al principio y veas la necesidad de cambiar, arguentalo)\n"
      ]
    },
    {
      "metadata": {
        "id": "1iaRlfgBv_L3",
        "colab_type": "code",
        "colab": {}
      },
      "cell_type": "code",
      "source": [
        "N = [\"1\",\"2\",\"3\",\"4\",\"5\",\"6\",\"7\",\"8\",\"9\"]\n",
        "O = [\"+\",\"-\",\"*\",\"/\"]"
      ],
      "execution_count": 0,
      "outputs": []
    },
    {
      "metadata": {
        "id": "xFIJrOwKi2Ti",
        "colab_type": "text"
      },
      "cell_type": "markdown",
      "source": [
        "\n",
        "**2a**: La mejor forma de estructurar los datos de este problema es mediante dos listas que contienen **carácteres**. Es muy importante que la combinación de ambas listas forme un string para su evaluación.<br>\n",
        "El orden de la lista de operadores siempre será ese, ya que no tiene importancia donde se coloquen, mientras los números estén bien colocados. En el algoritmo de fuerza bruta, la única restricción que se aplica es que el número no esté repetido en la lista (y que no sea una solución repetida), pero en futuras mejoras, se utilizarán diferentes listas pivote para mejorar este algoritmo."
      ]
    },
    {
      "metadata": {
        "id": "7Z9U2W7bi-XS",
        "colab_type": "text"
      },
      "cell_type": "markdown",
      "source": [
        "**Pregunta 3**<br>\n",
        "Según el modelo para el espacio de soluciones<br>\n",
        "**a** ¿Cual es la función objetivo?\n",
        "\n",
        "**b** ¿Es un problema de maximización o minimización?"
      ]
    },
    {
      "metadata": {
        "id": "hBalWLM7j1_d",
        "colab_type": "text"
      },
      "cell_type": "markdown",
      "source": [
        "Respuesta"
      ]
    },
    {
      "metadata": {
        "id": "pDA-rg3Gj5Lz",
        "colab_type": "code",
        "colab": {}
      },
      "cell_type": "code",
      "source": [
        "def es_correcto(exp, value):\n",
        "  if len(expr) == 9  and eval(expr) == value: return True\n",
        "  else: return False"
      ],
      "execution_count": 0,
      "outputs": []
    },
    {
      "metadata": {
        "id": "YLh0YhrQ5UM-",
        "colab_type": "text"
      },
      "cell_type": "markdown",
      "source": [
        "**3a**: La función objetivo en este problema es la que pasando como parámetro de entrada una cadena de texto (expresión de la operación) devuelve True si el resultado de esa operación es el número deseado y False si no lo es.<br>\n",
        "**3b**: Este problema no se trata de maximización o minimización, hay que realizar la búsqueda en un espacio de soluciones de una expresión que su resultado sea un valor deseado. Por lo que no se trata de un problema de optimización."
      ]
    },
    {
      "metadata": {
        "id": "rlnTYgY1j6I2",
        "colab_type": "text"
      },
      "cell_type": "markdown",
      "source": [
        "**Pregunta 4**<br>\n",
        "Diseña un algoritmo para resolver el problema por fuerza bruta"
      ]
    },
    {
      "metadata": {
        "id": "70rDgxYXkC8r",
        "colab_type": "text"
      },
      "cell_type": "markdown",
      "source": [
        "Respuesta"
      ]
    },
    {
      "metadata": {
        "id": "CJb5sQ0qkENy",
        "colab_type": "code",
        "colab": {}
      },
      "cell_type": "code",
      "source": [
        "from itertools import permutations\n",
        "\n",
        "def calcular(l): #a partir de una lista de numeros, devuelve la expresion\n",
        "    expr = \"\"\n",
        "    for i in range(len(l)):\n",
        "        expr += str(l[i])\n",
        "        if i < len(l) - 1:\n",
        "            expr += O[i]\n",
        "    return expr\n",
        "\n",
        "def space(n):\n",
        "    return list(permutations(range(1,n+1),5))\n",
        "\n",
        "def fuerza_bruta(val):\n",
        "    pos = space(9) # posibles soluciones para 1..9 numeros\n",
        "    for p in pos:\n",
        "        expr = calcular(p)\n",
        "        if eval(expr) == val:\n",
        "            return expr\n",
        "    return \"Err\""
      ],
      "execution_count": 0,
      "outputs": []
    },
    {
      "metadata": {
        "id": "iW3G5ay4Jefx",
        "colab_type": "code",
        "colab": {
          "base_uri": "https://localhost:8080/",
          "height": 33
        },
        "outputId": "7db70e05-06ca-4c7e-a83a-9ddbc70b6fb9"
      },
      "cell_type": "code",
      "source": [
        "fuerza_bruta(4)"
      ],
      "execution_count": 38,
      "outputs": [
        {
          "output_type": "execute_result",
          "data": {
            "text/plain": [
              "'1+4-2*3/6'"
            ]
          },
          "metadata": {
            "tags": []
          },
          "execution_count": 38
        }
      ]
    },
    {
      "metadata": {
        "id": "tgrnsC2nkFa8",
        "colab_type": "text"
      },
      "cell_type": "markdown",
      "source": [
        "**a** Calcula la complejidad del algoritmo por fuerza bruta"
      ]
    },
    {
      "metadata": {
        "id": "9eUd3xwckP68",
        "colab_type": "text"
      },
      "cell_type": "markdown",
      "source": [
        "**4a**:\n",
        "Mi solución para la fuerza bruta es generar todo el conjunto de soluciones posibles y luego iterar sobre este conjunto para encontrar la expresión adecuada. Este enfoque siempre devolverá la solución (si está dentro del rango de soluciones posibles). Al generar todas las cominaciones de números posibles, el peor caso de la complejidad de este algoritmo sería **O(nPk)**."
      ]
    },
    {
      "metadata": {
        "id": "txbrmLmskReM",
        "colab_type": "text"
      },
      "cell_type": "markdown",
      "source": [
        "**Pregunta 6**<br>\n",
        "**a**: Diseña un algoritmo que mejore la complejidad del algortimo por fuerza bruta. Argumenta porque crees que mejora el algoritmo por fuerza bruta"
      ]
    },
    {
      "metadata": {
        "id": "hLrVwt5QkZPD",
        "colab_type": "text"
      },
      "cell_type": "markdown",
      "source": [
        "Respuesta: He planteado resolver este algoritmo mediante la técnica del A*, ajustado a este problema. Utilizando como heurística la función de evaluar una expresión aritmética"
      ]
    },
    {
      "metadata": {
        "id": "m1eyM21Vkabg",
        "colab_type": "code",
        "colab": {}
      },
      "cell_type": "code",
      "source": [
        ""
      ],
      "execution_count": 0,
      "outputs": []
    },
    {
      "metadata": {
        "id": "eGDB4K6uk1iN",
        "colab_type": "text"
      },
      "cell_type": "markdown",
      "source": [
        "**b**: Calcula la complejidad del algoritmo "
      ]
    },
    {
      "metadata": {
        "id": "NhpTh_BPk1ms",
        "colab_type": "text"
      },
      "cell_type": "markdown",
      "source": [
        "Respuesta"
      ]
    },
    {
      "metadata": {
        "id": "nREzhkStlCq8",
        "colab_type": "code",
        "colab": {}
      },
      "cell_type": "code",
      "source": [
        ""
      ],
      "execution_count": 0,
      "outputs": []
    },
    {
      "metadata": {
        "id": "3M6QjTsSkmYe",
        "colab_type": "text"
      },
      "cell_type": "markdown",
      "source": [
        "**Pregunta 7**<br>\n",
        "**a** Según el problema (y tenga sentido), diseña un juego de datos de entrada aleatorios<br>\n",
        "**b** Aplica el algoritmo al juego de datos generado"
      ]
    },
    {
      "metadata": {
        "id": "_Cmj-PVylMsa",
        "colab_type": "text"
      },
      "cell_type": "markdown",
      "source": [
        "Respuesta<br>\n",
        "**7ab**: Para este problema no tiene sentido imaginar una conjunto de datos de entrada aleatorios, ya que el unico parámetro de entrada que introducimos a este algoritmo es el valor que queremos conseguir alcanzar. Una implementación posible a esto, es generar un número decimal para ver como se comporta el algoritmo:"
      ]
    },
    {
      "metadata": {
        "id": "1w3a6UMmIyXc",
        "colab_type": "code",
        "colab": {
          "base_uri": "https://localhost:8080/",
          "height": 33
        },
        "outputId": "0d692062-2688-4667-acab-895f0cfb19d6"
      },
      "cell_type": "code",
      "source": [
        "import random\n",
        "\n",
        "rnumber = random.uniform(0.0,77.0)\n",
        "rnumber"
      ],
      "execution_count": 48,
      "outputs": [
        {
          "output_type": "execute_result",
          "data": {
            "text/plain": [
              "53.14881018711584"
            ]
          },
          "metadata": {
            "tags": []
          },
          "execution_count": 48
        }
      ]
    },
    {
      "metadata": {
        "id": "Ella3HvuJZoK",
        "colab_type": "code",
        "colab": {
          "base_uri": "https://localhost:8080/",
          "height": 33
        },
        "outputId": "fd77049d-ddce-41b3-f9d3-02505d8d8af0"
      },
      "cell_type": "code",
      "source": [
        "fuerza_bruta(rnumber)"
      ],
      "execution_count": 49,
      "outputs": [
        {
          "output_type": "execute_result",
          "data": {
            "text/plain": [
              "'Err'"
            ]
          },
          "metadata": {
            "tags": []
          },
          "execution_count": 49
        }
      ]
    },
    {
      "metadata": {
        "colab_type": "text",
        "id": "eTFWUJQrtGcv"
      },
      "cell_type": "markdown",
      "source": [
        "**Referencias**\n",
        "Enumera las referencias que has utilizado(si ha sido necesario) para llevar a cabo el trabajo\n",
        "\n",
        "\n",
        "*   https://www.geeksforgeeks.org/program-calculate-value-ncr/\n",
        "*   https://www.probabilitycourse.com/chapter2/2_1_4_unordered_with_replacement.php\n",
        "*   https://en.wikipedia.org/wiki/Reverse_Polish_notation\n",
        "\n"
      ]
    },
    {
      "metadata": {
        "id": "kAkDPUyRtYyH",
        "colab_type": "text"
      },
      "cell_type": "markdown",
      "source": [
        "**Pregunta 8**<br>\n",
        "Describe brevemente las lineas de como crees que es posible avanzar en el estudio del problema. Ten en cuenta incluso posibles variaciones del problema y/o variaciones al alza del tamaño"
      ]
    },
    {
      "metadata": {
        "id": "IE0uZmo-tZu-",
        "colab_type": "text"
      },
      "cell_type": "markdown",
      "source": [
        "Respuesta:\n",
        "\n",
        "\n",
        "1.   Como hemos podido observar, los numerós de tipo *float* son muy complicados que aparezcan en el espacio de soluciones actual. Una forma de avanzar en este problema, sería la de añadir más posibles soluciones al espacio. Esto se podría realizar añadiendo más tipos de operadores como la raíz cuadrada, logaritmos, etc.\n",
        "2.   Modificando la modelación del problema y convirtiendolo a un algoritmo de optimización, en que se necesite minimizar el error entre el valor deseado y el más cercano calculado.\n",
        "3.   Al hacer este cambio, se podría añadir un algoritmo genético de manera más eficiente, ya que por como está planteado el problema, es más abordable desde el punto de vista de ramificación y poda.\n",
        "\n"
      ]
    }
  ]
}